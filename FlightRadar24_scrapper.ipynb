{
 "cells": [
  {
   "cell_type": "code",
   "execution_count": null,
   "metadata": {},
   "outputs": [],
   "source": [
    "#FLIGHTRADAR24 DAILY SCRAPPER (this script was trasnformed to exe via pyinstaller and was put on schedule run to collect data)"
   ]
  },
  {
   "cell_type": "code",
   "execution_count": 11,
   "metadata": {},
   "outputs": [
   ],
   "source": [
    "#Import Libraries for FlightRadar24 Scrapper"
   ]
  },
  {
   "cell_type": "code",
   "execution_count": 12,
   "metadata": {},
   "outputs": [],
   "source": [
    "import time\n",
    "import requests\n",
    "import pandas as pd\n",
    "from datetime import datetime as dt\n",
    "from datetime import date, timedelta\n",
    "from fp.fp import FreeProxy"
   ]
  },
  {
   "cell_type": "code",
   "execution_count": 13,
   "metadata": {},
   "outputs": [],
   "source": [
    "#Change proxy for every \"hit\", in order to avoid IP ban\n",
    "def make_me_invisible():\n",
    "    global proxy\n",
    "    proxy1 = FreeProxy(timeout=1, rand=True, anonym=False).get()\n",
    "    proxy2 = 'http://' \n",
    "    proxy = {proxy2 : proxy1}\n",
    "    while len(proxy1) > 27:\n",
    "        proxy1 = FreeProxy(timeout=1, rand=True, anonym=False).get()\n",
    "        proxy2 = 'http://' \n",
    "        proxy = {proxy2 : proxy1}  \n",
    "    return proxy"
   ]
  },
  {
   "cell_type": "code",
   "execution_count": 14,
   "metadata": {},
   "outputs": [],
   "source": [
    "pd.set_option('mode.chained_assignment', None) #settings configuration to avoid Raise Warning due to appending method of csv file\n",
    "make_me_invisible() #call for proxy change\n",
    "df_merged = pd.DataFrame() #set empty dataframe\n",
    "for i in range(10,-10,-1): #JSON Pages that load to the website\n",
    "    #setting the GET method parameters to request data from the FlightRaar24 API\n",
    "    URL =  'https://api.flightradar24.com/common/v1/airport.json?code=LHR&plugin[]=&plugin-setting[schedule][mode]=departures&plugin-setting[schedule][timestamp]={}&page='+str(i)+'&limit=100&fleet=&token='\n",
    "    response = requests.get(URL.format(int(time.time())), headers={'User-Agent': 'Mozilla/5.0 (Macintosh; Intel Mac OS X 10_14_4) AppleWebKit/605.1.15 (KHTML, like Gecko) Version/12.1 Safari/605.1.15'})\n",
    "    data = response.json()\n",
    "    \n",
    "    #choose which child of the json we need to put to a dataframe\n",
    "    df1 = pd.json_normalize(data['result']['response']['airport']['pluginData']['schedule']['departures']['data'])        \n",
    "    df_merged = pd.concat([df1,df_merged])\n",
    "    \n",
    "#data cleansing and re-formatting    \n",
    "df = df_merged[['flight.identification.number.default','flight.status.text','flight.status.generic.status.text',\n",
    "                'flight.aircraft.model.code','flight.airport.destination.position.latitude',\n",
    "                'flight.airport.destination.position.longitude','flight.airport.destination.position.country.code',\n",
    "                'flight.time.scheduled.departure','flight.time.real.arrival','flight.time.real.departure',\n",
    "                'flight.time.scheduled.arrival']]\n",
    "df.rename(columns={'flight.identification.number.default': 'FlightNo','flight.status.generic.status.text':'Status',\n",
    "                   'flight.time.scheduled.arrival': 'ScheduledTimeArr' , 'flight.status.text' : 'ActualTimeDep',\n",
    "                   'flight.aircraft.model.code':'AC Model', 'flight.airport.destination.position.latitude' : 'Lat Arr',\n",
    "                   'flight.airport.destination.position.longitude':'Lon Arr','flight.airport.destination.position.country.code':'Dest Country',\n",
    "                   'flight.time.real.arrival':'Actual Arr', 'flight.time.real.departure':'Actual Dep',\n",
    "                   'flight.time.scheduled.departure':'ScheduledTimeDep'\n",
    "                   }, inplace=True)\n",
    "df['ScheduledTimeDep'] = pd.to_datetime(df['ScheduledTimeDep'],unit='s')\n",
    "df['Actual Arr'] = pd.to_datetime(df['Actual Arr'],unit='s')\n",
    "df['Actual Dep'] = pd.to_datetime(df['Actual Dep'],unit='s')\n",
    "df['ScheduledTimeArr'] = pd.to_datetime(df['ScheduledTimeArr'],unit='s')\n",
    "var1 = pd.to_datetime(df['ScheduledTimeArr'] , format='%Y-%m-%d %H:%M:%S').dt.time\n",
    "var2 = pd.to_datetime(df['Actual Arr'] , format='%Y-%m-%d %H:%M:%S').dt.time.rename('ActualTimeArr')\n",
    "var3 = pd.to_datetime(df['Actual Dep'] , format='%Y-%m-%d %H:%M:%S').dt.time.rename('ActualTimeDep')\n",
    "var4 = pd.to_datetime(df['ScheduledTimeDep'] , format='%Y-%m-%d %H:%M:%S').dt.date.rename('Date')\n",
    "var5 = pd.to_datetime(df['ScheduledTimeDep'] , format='%Y-%m-%d %H:%M:%S').dt.time\n",
    "df_final = df.drop(['ScheduledTimeDep','Actual Dep','Actual Arr','ScheduledTimeArr'],axis='columns')\n",
    "df_final= pd.concat((df_final , var1,var2,var3,var4,var5),axis='columns')"
   ]
  },
  {
   "cell_type": "code",
   "execution_count": 15,
   "metadata": {},
   "outputs": [],
   "source": [
    "# Save the file in CSV format in the current working directory\n",
    "df_final.to_csv('FlightRadar24.csv', mode='a', header=False)"
   ]
  }
 ],
 "metadata": {
  "kernelspec": {
   "display_name": "Python 3",
   "language": "python",
   "name": "python3"
  },
  "language_info": {
   "codemirror_mode": {
    "name": "ipython",
    "version": 3
   },
   "file_extension": ".py",
   "mimetype": "text/x-python",
   "name": "python",
   "nbconvert_exporter": "python",
   "pygments_lexer": "ipython3",
   "version": "3.8.5"
  }
 },
 "nbformat": 4,
 "nbformat_minor": 4
}
